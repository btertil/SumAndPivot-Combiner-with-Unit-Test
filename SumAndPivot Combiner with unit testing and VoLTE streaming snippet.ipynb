{
 "cells": [
  {
   "cell_type": "markdown",
   "id": "cdaf26e8-965b-4c51-97b5-4a31fd69a681",
   "metadata": {},
   "source": [
    "# SumAndPivot Combiner with Unit Test + VoLTE Streaming Snippet\n",
    "\n",
    "This custom Combiner is neededd to aggregate and pivot counters from key value pairs that are obtined from the source. <b>Why it is important?</b> Apache Beam provides a bunch of scallable built-in combiners to handle effective processing of large PCollections in distributed manner, but pivot transform is not supported in Apache Beam. Current implementation in existing pipelines in our project is based on UDF and it is not scallable enough as it does not match distributed calculation patterns of Apache Beam. Implemented below custom combiner class is an extention of <b>beam.CombineFn</b> class providing scallable and distributed manner of combining large PCollections in flexible and distributed manner.\n",
    "\n",
    "Questions? Let me know: bartosz.tertil@external.telekom.de"
   ]
  },
  {
   "cell_type": "markdown",
   "id": "82fd3fbb-daa0-4de2-aeef-ae9e002231c2",
   "metadata": {},
   "source": [
    "### Imports"
   ]
  },
  {
   "cell_type": "code",
   "execution_count": 1,
   "id": "d2e805e1-2a8a-41a1-a7cd-08ba2eac6caf",
   "metadata": {
    "tags": []
   },
   "outputs": [],
   "source": [
    "import datetime\n",
    "from zoneinfo import ZoneInfo\n",
    "\n",
    "import logging\n",
    "import json\n",
    "import typing\n",
    "\n",
    "import apache_beam as beam\n",
    "from apache_beam import Create, Map, ParDo\n",
    "from apache_beam.runners.interactive.interactive_runner import InteractiveRunner\n",
    "from apache_beam.runners.interactive import interactive_beam as ib\n",
    "from apache_beam.options.pipeline_options import PipelineOptions\n",
    "from apache_beam.transforms.combiners import CountCombineFn\n",
    "from apache_beam.options.pipeline_options import StandardOptions\n"
   ]
  },
  {
   "cell_type": "markdown",
   "id": "8b92b5c3-0d49-4ad0-9ef2-07a57c7955fa",
   "metadata": {},
   "source": [
    "### Test data"
   ]
  },
  {
   "cell_type": "code",
   "execution_count": 2,
   "id": "720afd86-cbdf-4b40-8562-0a074c6c8f94",
   "metadata": {
    "jupyter": {
     "source_hidden": true
    },
    "tags": []
   },
   "outputs": [],
   "source": [
    "sample_data = {\n",
    "    \"sample\": [\n",
    "        {\n",
    "        \"element_id\": \"AAA\",\n",
    "        \"name\": \"C1\",\n",
    "        \"value\": 1,\n",
    "        \"timestamp\": 1624026749,\n",
    "        },\n",
    "        {\n",
    "        \"element_id\": \"AAA\",\n",
    "        \"name\": \"C1\",\n",
    "        \"value\": 7,\n",
    "        \"timestamp\": 1624026749,\n",
    "        },\n",
    "        {\n",
    "        \"element_id\": \"AAA\",\n",
    "        \"name\": \"C1\",\n",
    "        \"value\": 12,\n",
    "        \"timestamp\": 1624026749,\n",
    "        },\n",
    "        {\n",
    "        \"element_id\": \"AAA\",\n",
    "        \"name\": \"C1\",\n",
    "        \"value\": 50,\n",
    "        \"timestamp\": 1624026749,\n",
    "        },\n",
    "        {\n",
    "        \"element_id\": \"AAA\",\n",
    "        \"name\": \"C2\",\n",
    "        \"value\": 27,\n",
    "        \"timestamp\": 1624026749,\n",
    "        },\n",
    "        {\n",
    "        \"element_id\": \"AAA\",\n",
    "        \"name\": \"C3\",\n",
    "        \"value\": 105,\n",
    "        \"timestamp\": 1624026749,\n",
    "        },\n",
    "        {\n",
    "        \"element_id\": \"BBB\",\n",
    "        \"name\": \"C1\",\n",
    "        \"value\": 22,\n",
    "        \"timestamp\": 1624026749,\n",
    "        },\n",
    "        {\n",
    "        \"element_id\": \"BBB\",\n",
    "        \"name\": \"C2\",\n",
    "        \"value\": 24,\n",
    "        \"timestamp\": 1624026749,\n",
    "        },\n",
    "        {\n",
    "        \"element_id\": \"BBB\",\n",
    "        \"name\": \"C4\",\n",
    "        \"value\": 95,\n",
    "        \"timestamp\": 1624026749,\n",
    "        },\n",
    "        \n",
    "        {\n",
    "        \"element_id\": \"AAA\",\n",
    "        \"name\": \"C1\",\n",
    "        \"value\": 21,\n",
    "        \"timestamp\": 1624050708,\n",
    "        },\n",
    "        {\n",
    "        \"element_id\": \"AAA\",\n",
    "        \"name\": \"C2\",\n",
    "        \"value\": 6,\n",
    "        \"timestamp\": 1624050708,\n",
    "        },\n",
    "        {\n",
    "        \"element_id\": \"AAA\",\n",
    "        \"name\": \"C3\",\n",
    "        \"value\": 98,\n",
    "        \"timestamp\": 1624050708,\n",
    "        },\n",
    "        {\n",
    "        \"element_id\": \"BBB\",\n",
    "        \"name\": \"C1\",\n",
    "        \"value\": 112,\n",
    "        \"timestamp\": 1624050708,\n",
    "        },\n",
    "        {\n",
    "        \"element_id\": \"BBB\",\n",
    "        \"name\": \"C2\",\n",
    "        \"value\": 127,\n",
    "        \"timestamp\": 1624050708,\n",
    "        },\n",
    "        {\n",
    "        \"element_id\": \"BBB\",\n",
    "        \"name\": \"C4\",\n",
    "        \"value\": 115,\n",
    "        \"timestamp\": 1624050708,\n",
    "        }]\n",
    "}"
   ]
  },
  {
   "cell_type": "code",
   "execution_count": 3,
   "id": "0c936043-ca54-4572-8506-a33fca7854bd",
   "metadata": {
    "tags": []
   },
   "outputs": [
    {
     "data": {
      "text/plain": [
       "[{'element_id': 'AAA', 'name': 'C1', 'value': 1, 'timestamp': 1624026749},\n",
       " {'element_id': 'AAA', 'name': 'C1', 'value': 7, 'timestamp': 1624026749},\n",
       " {'element_id': 'AAA', 'name': 'C1', 'value': 12, 'timestamp': 1624026749},\n",
       " {'element_id': 'AAA', 'name': 'C1', 'value': 50, 'timestamp': 1624026749},\n",
       " {'element_id': 'AAA', 'name': 'C2', 'value': 27, 'timestamp': 1624026749},\n",
       " {'element_id': 'AAA', 'name': 'C3', 'value': 105, 'timestamp': 1624026749},\n",
       " {'element_id': 'BBB', 'name': 'C1', 'value': 22, 'timestamp': 1624026749},\n",
       " {'element_id': 'BBB', 'name': 'C2', 'value': 24, 'timestamp': 1624026749},\n",
       " {'element_id': 'BBB', 'name': 'C4', 'value': 95, 'timestamp': 1624026749},\n",
       " {'element_id': 'AAA', 'name': 'C1', 'value': 21, 'timestamp': 1624050708},\n",
       " {'element_id': 'AAA', 'name': 'C2', 'value': 6, 'timestamp': 1624050708},\n",
       " {'element_id': 'AAA', 'name': 'C3', 'value': 98, 'timestamp': 1624050708},\n",
       " {'element_id': 'BBB', 'name': 'C1', 'value': 112, 'timestamp': 1624050708},\n",
       " {'element_id': 'BBB', 'name': 'C2', 'value': 127, 'timestamp': 1624050708},\n",
       " {'element_id': 'BBB', 'name': 'C4', 'value': 115, 'timestamp': 1624050708}]"
      ]
     },
     "execution_count": 3,
     "metadata": {},
     "output_type": "execute_result"
    }
   ],
   "source": [
    "sample_data.get(\"sample\")"
   ]
  },
  {
   "cell_type": "code",
   "execution_count": 4,
   "id": "d433d361-1303-48fe-b030-a0f8d4b379a6",
   "metadata": {
    "tags": []
   },
   "outputs": [],
   "source": [
    "class TestDataSchema(typing.NamedTuple):\n",
    "    element_id: str\n",
    "    name: str\n",
    "    value: int\n",
    "    timestamp: str"
   ]
  },
  {
   "cell_type": "code",
   "execution_count": 5,
   "id": "6f1f496f-d6be-4889-954a-e570f739cd60",
   "metadata": {
    "tags": []
   },
   "outputs": [],
   "source": [
    "beam.coders.registry.register_coder(TestDataSchema, beam.coders.RowCoder)"
   ]
  },
  {
   "cell_type": "markdown",
   "id": "1a0c1d85-348a-4219-87df-aa141b846abe",
   "metadata": {},
   "source": [
    "## Custom Combiner: CombineAndPivotFn\n",
    "\n",
    "Needed documentation:\n",
    "* beam documentation page: https://beam.apache.org/documentation/programming-guide/#combine\n",
    "* parent class source code: https://github.com/apache/beam/blob/master/sdks/python/apache_beam/transforms/core.py#L1052\n",
    "\n",
    "Methods that needs to be overridden:\n",
    "* <b>CombineFn.create_accumulator()</b>: This creates an empty accumulator. For example, an empty accumulator for a sum would be 0, while an empty accumulator for a product (multiplication) would be 1.\n",
    "* <b>CombineFn.add_input()</b>: Called once per element. Takes an accumulator and an input element, combines them and returns the updated accumulator.\n",
    "* <b>CombineFn.merge_accumulators()</b>: Multiple accumulators could be processed in parallel, so this function helps merging them into a single accumulator.\n",
    "* <b>CombineFn.extract_output()</b>: It allows to do additional calculations before extracting a result."
   ]
  },
  {
   "cell_type": "markdown",
   "id": "2ad610de-893a-4ddd-8854-debc68384a3c",
   "metadata": {},
   "source": [
    "#### Example of MeanCombineFn combiner from Apache Beam (source code): "
   ]
  },
  {
   "cell_type": "raw",
   "id": "08c05d1d-240c-4aa9-a0f4-4b10498f8cba",
   "metadata": {},
   "source": [
    "class MeanCombineFn(beam.CombineFn):\n",
    "    \"\"\"CombineFn for computing an arithmetic mean.\"\"\"\n",
    "    def create_accumulator(self):\n",
    "        return (0, 0)\n",
    "    \n",
    "    def add_input(self, sum_count, element):\n",
    "        (sum_, count) = sum_count\n",
    "        return sum_ + element, count + 1\n",
    "    \n",
    "    def merge_accumulators(self, accumulators):\n",
    "        sums, counts = zip(*accumulators)\n",
    "        return sum(sums), sum(counts)\n",
    "    \n",
    "    def extract_output(self, sum_count):\n",
    "        (sum_, count) = sum_count\n",
    "        if count == 0:\n",
    "            return float('NaN')\n",
    "        return sum_ / float(count)"
   ]
  },
  {
   "cell_type": "markdown",
   "id": "0c9f2cf7-39b0-47c4-8bbb-901a4ac843a3",
   "metadata": {
    "tags": []
   },
   "source": [
    "## SumAndPivotFn Class - Implementation\n",
    "\n",
    "#### Class implementation:"
   ]
  },
  {
   "cell_type": "code",
   "execution_count": 6,
   "id": "9ce704c6-f2b9-43ad-a4f5-92d40310ab64",
   "metadata": {
    "tags": []
   },
   "outputs": [],
   "source": [
    "from apache_beam.typehints import with_output_types\n",
    "from typing import Dict\n",
    "\n",
    "@with_output_types(Dict[str, int])\n",
    "class SumAndPivotFn(beam.CombineFn):\n",
    "    \"\"\"CombineFn for summing with pivoting\"\"\"\n",
    "    \n",
    "    def create_accumulator(self):\n",
    "        return {}\n",
    "\n",
    "    # Acc to new local acc + update per element. Executes for EVERY single element/input (not groups of elements!)\n",
    "    def add_input(self, acc, element):\n",
    "        new_dict = acc\n",
    "        new_dict[element.name] = new_dict.get(element.name, 0) + element.value\n",
    "        return new_dict \n",
    "\n",
    "    # combine/merge list of local accumulators into a global acc\n",
    "    def merge_accumulators(self, accumulators):\n",
    "        new_acc = {}\n",
    "        for a in accumulators:\n",
    "            for k, v in a.items():\n",
    "                new_acc[k] = new_acc.get(k, 0) + v\n",
    "        return new_acc\n",
    "\n",
    "    # emit the final result here\n",
    "    def extract_output(self, acc):\n",
    "        return acc"
   ]
  },
  {
   "cell_type": "markdown",
   "id": "3b5f8db0-0ec9-47b5-bd85-095478f9f204",
   "metadata": {},
   "source": [
    "#### Fixing rows with timestamp zone set to Europe/Berlin"
   ]
  },
  {
   "cell_type": "code",
   "execution_count": 7,
   "id": "502b7bd4-7348-4e8c-be71-f7fa2cb854dc",
   "metadata": {
    "tags": []
   },
   "outputs": [],
   "source": [
    "class FormatOutputsAfterCombine(beam.DoFn):\n",
    "    def process(self, element):\n",
    "        import datetime\n",
    "        from zoneinfo import ZoneInfo\n",
    "        result = {\n",
    "            \"element_id\": element[0].element_id,\n",
    "            \"timestamp\": element[0].timestamp,\n",
    "            \"timestamp_utc\": datetime.datetime.fromtimestamp(element[0].timestamp),\n",
    "            \"timestamp_local\": datetime.datetime.fromtimestamp(element[0].timestamp, ZoneInfo(\"Europe/Berlin\")),\n",
    "            **element[1]\n",
    "        }\n",
    "        yield result"
   ]
  },
  {
   "cell_type": "markdown",
   "id": "eebe5478-b297-4db5-939f-cfef45665cc1",
   "metadata": {},
   "source": [
    "### Pipeline + Results"
   ]
  },
  {
   "cell_type": "code",
   "execution_count": 8,
   "id": "189aec88-a756-4b6e-b7f3-39f1e8933099",
   "metadata": {
    "tags": []
   },
   "outputs": [],
   "source": [
    "options = PipelineOptions(runner='InteractiveRunner')"
   ]
  },
  {
   "cell_type": "code",
   "execution_count": 9,
   "id": "be34cdfd-c6db-47a0-a08e-a948dde40e4d",
   "metadata": {
    "tags": []
   },
   "outputs": [
    {
     "name": "stderr",
     "output_type": "stream",
     "text": [
      "WARNING:apache_beam.options.pipeline_options:Discarding unparseable args: ['-f', '/root/.local/share/jupyter/runtime/kernel-fd011fab-214c-4e6d-bb56-e092ceb1f9d1.json']\n",
      "WARNING:apache_beam.options.pipeline_options:Discarding unparseable args: ['-f', '/root/.local/share/jupyter/runtime/kernel-fd011fab-214c-4e6d-bb56-e092ceb1f9d1.json']\n"
     ]
    }
   ],
   "source": [
    "with beam.Pipeline(options=options) as p:\n",
    "    data = (p\n",
    "        | 'ReadFromJSON' >> beam.Create(sample_data.get(\"sample\"))\n",
    "        | 'AssignSchema' >> beam.Map(lambda x: TestDataSchema(**x)) \n",
    "        | 'TimestampedValues' >> beam.Map(lambda x: beam.window.TimestampedValue(x, x.timestamp))\n",
    "        | 'GroupBy' >> beam.GroupBy(\"element_id\", \"timestamp\")\n",
    "        | 'SumAndPivotFn' >> beam.CombineValues(SumAndPivotFn())\n",
    "        | 'FormatOutputsAfterCombine' >> beam.ParDo(FormatOutputsAfterCombine())\n",
    "    )"
   ]
  },
  {
   "cell_type": "code",
   "execution_count": 10,
   "id": "d297a4bb-21a9-4830-bbf4-1385ff52c0b6",
   "metadata": {
    "tags": []
   },
   "outputs": [
    {
     "data": {
      "text/html": [
       "\n",
       "            <link rel=\"stylesheet\" href=\"https://stackpath.bootstrapcdn.com/bootstrap/4.4.1/css/bootstrap.min.css\" integrity=\"sha384-Vkoo8x4CGsO3+Hhxv8T/Q5PaXtkKtu6ug5TOeNV6gBiFeWPGFN9MuhOf23Q9Ifjh\" crossorigin=\"anonymous\">\n",
       "            <div id=\"progress_indicator_0ab9ddd9c49e37297fc8a0776b8594b5\">\n",
       "              <div class=\"spinner-border text-info\" role=\"status\"></div>\n",
       "              <span class=\"text-info\">Processing... show</span>\n",
       "            </div>\n",
       "            "
      ],
      "text/plain": [
       "<IPython.core.display.HTML object>"
      ]
     },
     "metadata": {},
     "output_type": "display_data"
    },
    {
     "data": {
      "text/html": [
       "\n",
       "            <style>\n",
       "            .p-Widget.jp-OutputPrompt.jp-OutputArea-prompt:empty {\n",
       "              padding: 0;\n",
       "              border: 0;\n",
       "            }\n",
       "            .p-Widget.jp-RenderedJavaScript.jp-mod-trusted.jp-OutputArea-output:empty {\n",
       "              padding: 0;\n",
       "              border: 0;\n",
       "            }\n",
       "            </style>\n",
       "            <link rel=\"stylesheet\" href=\"https://cdn.datatables.net/1.10.20/css/jquery.dataTables.min.css\">\n",
       "            <table id=\"table_df_87266d4f0fd9ccfd756f96c304af1612\" class=\"display\" style=\"display:block\"></table>\n",
       "            <script>\n",
       "              \n",
       "        if (typeof window.interactive_beam_jquery == 'undefined') {\n",
       "          var jqueryScript = document.createElement('script');\n",
       "          jqueryScript.src = 'https://code.jquery.com/jquery-3.4.1.slim.min.js';\n",
       "          jqueryScript.type = 'text/javascript';\n",
       "          jqueryScript.onload = function() {\n",
       "            var datatableScript = document.createElement('script');\n",
       "            datatableScript.src = 'https://cdn.datatables.net/1.10.20/js/jquery.dataTables.min.js';\n",
       "            datatableScript.type = 'text/javascript';\n",
       "            datatableScript.onload = function() {\n",
       "              window.interactive_beam_jquery = jQuery.noConflict(true);\n",
       "              window.interactive_beam_jquery(document).ready(function($){\n",
       "                \n",
       "            var dt;\n",
       "            if ($.fn.dataTable.isDataTable(\"#table_df_87266d4f0fd9ccfd756f96c304af1612\")) {\n",
       "              dt = $(\"#table_df_87266d4f0fd9ccfd756f96c304af1612\").dataTable();\n",
       "            } else if ($(\"#table_df_87266d4f0fd9ccfd756f96c304af1612_wrapper\").length == 0) {\n",
       "              dt = $(\"#table_df_87266d4f0fd9ccfd756f96c304af1612\").dataTable({\n",
       "                \n",
       "            bAutoWidth: false,\n",
       "            columns: [{'title': ''}, {'title': 'element_id'}, {'title': 'timestamp'}, {'title': 'timestamp_utc'}, {'title': 'timestamp_local'}, {'title': 'C1'}, {'title': 'C2'}, {'title': 'C3'}, {'title': 'C4'}],\n",
       "            destroy: true,\n",
       "            responsive: true,\n",
       "            columnDefs: [\n",
       "              {\n",
       "                targets: \"_all\",\n",
       "                className: \"dt-left\"\n",
       "              },\n",
       "              {\n",
       "                \"targets\": 0,\n",
       "                \"width\": \"10px\",\n",
       "                \"title\": \"\"\n",
       "              }\n",
       "            ]\n",
       "              });\n",
       "            } else {\n",
       "              return;\n",
       "            }\n",
       "            dt.api()\n",
       "              .clear()\n",
       "              .rows.add([{1: 'AAA', 2: '1624026749', 3: '2021-06-18 14:32:29', 4: '2021-06-18 16:32:29+02:00', 5: '70', 6: '27', 7: '105.0', 8: 'nan', 0: 0}, {1: 'BBB', 2: '1624026749', 3: '2021-06-18 14:32:29', 4: '2021-06-18 16:32:29+02:00', 5: '22', 6: '24', 7: 'nan', 8: '95.0', 0: 1}, {1: 'AAA', 2: '1624050708', 3: '2021-06-18 21:11:48', 4: '2021-06-18 23:11:48+02:00', 5: '21', 6: '6', 7: '98.0', 8: 'nan', 0: 2}, {1: 'BBB', 2: '1624050708', 3: '2021-06-18 21:11:48', 4: '2021-06-18 23:11:48+02:00', 5: '112', 6: '127', 7: 'nan', 8: '115.0', 0: 3}])\n",
       "              .draw('full-hold');\n",
       "              });\n",
       "            }\n",
       "            document.head.appendChild(datatableScript);\n",
       "          };\n",
       "          document.head.appendChild(jqueryScript);\n",
       "        } else {\n",
       "          window.interactive_beam_jquery(document).ready(function($){\n",
       "            \n",
       "            var dt;\n",
       "            if ($.fn.dataTable.isDataTable(\"#table_df_87266d4f0fd9ccfd756f96c304af1612\")) {\n",
       "              dt = $(\"#table_df_87266d4f0fd9ccfd756f96c304af1612\").dataTable();\n",
       "            } else if ($(\"#table_df_87266d4f0fd9ccfd756f96c304af1612_wrapper\").length == 0) {\n",
       "              dt = $(\"#table_df_87266d4f0fd9ccfd756f96c304af1612\").dataTable({\n",
       "                \n",
       "            bAutoWidth: false,\n",
       "            columns: [{'title': ''}, {'title': 'element_id'}, {'title': 'timestamp'}, {'title': 'timestamp_utc'}, {'title': 'timestamp_local'}, {'title': 'C1'}, {'title': 'C2'}, {'title': 'C3'}, {'title': 'C4'}],\n",
       "            destroy: true,\n",
       "            responsive: true,\n",
       "            columnDefs: [\n",
       "              {\n",
       "                targets: \"_all\",\n",
       "                className: \"dt-left\"\n",
       "              },\n",
       "              {\n",
       "                \"targets\": 0,\n",
       "                \"width\": \"10px\",\n",
       "                \"title\": \"\"\n",
       "              }\n",
       "            ]\n",
       "              });\n",
       "            } else {\n",
       "              return;\n",
       "            }\n",
       "            dt.api()\n",
       "              .clear()\n",
       "              .rows.add([{1: 'AAA', 2: '1624026749', 3: '2021-06-18 14:32:29', 4: '2021-06-18 16:32:29+02:00', 5: '70', 6: '27', 7: '105.0', 8: 'nan', 0: 0}, {1: 'BBB', 2: '1624026749', 3: '2021-06-18 14:32:29', 4: '2021-06-18 16:32:29+02:00', 5: '22', 6: '24', 7: 'nan', 8: '95.0', 0: 1}, {1: 'AAA', 2: '1624050708', 3: '2021-06-18 21:11:48', 4: '2021-06-18 23:11:48+02:00', 5: '21', 6: '6', 7: '98.0', 8: 'nan', 0: 2}, {1: 'BBB', 2: '1624050708', 3: '2021-06-18 21:11:48', 4: '2021-06-18 23:11:48+02:00', 5: '112', 6: '127', 7: 'nan', 8: '115.0', 0: 3}])\n",
       "              .draw('full-hold');\n",
       "          });\n",
       "        }\n",
       "            </script>"
      ],
      "text/plain": [
       "<IPython.core.display.HTML object>"
      ]
     },
     "metadata": {},
     "output_type": "display_data"
    },
    {
     "data": {
      "application/javascript": [
       "\n",
       "        if (typeof window.interactive_beam_jquery == 'undefined') {\n",
       "          var jqueryScript = document.createElement('script');\n",
       "          jqueryScript.src = 'https://code.jquery.com/jquery-3.4.1.slim.min.js';\n",
       "          jqueryScript.type = 'text/javascript';\n",
       "          jqueryScript.onload = function() {\n",
       "            var datatableScript = document.createElement('script');\n",
       "            datatableScript.src = 'https://cdn.datatables.net/1.10.20/js/jquery.dataTables.min.js';\n",
       "            datatableScript.type = 'text/javascript';\n",
       "            datatableScript.onload = function() {\n",
       "              window.interactive_beam_jquery = jQuery.noConflict(true);\n",
       "              window.interactive_beam_jquery(document).ready(function($){\n",
       "                \n",
       "            $(\"#progress_indicator_0ab9ddd9c49e37297fc8a0776b8594b5\").remove();\n",
       "              });\n",
       "            }\n",
       "            document.head.appendChild(datatableScript);\n",
       "          };\n",
       "          document.head.appendChild(jqueryScript);\n",
       "        } else {\n",
       "          window.interactive_beam_jquery(document).ready(function($){\n",
       "            \n",
       "            $(\"#progress_indicator_0ab9ddd9c49e37297fc8a0776b8594b5\").remove();\n",
       "          });\n",
       "        }"
      ]
     },
     "metadata": {},
     "output_type": "display_data"
    }
   ],
   "source": [
    "ib.show(data)"
   ]
  },
  {
   "cell_type": "code",
   "execution_count": null,
   "id": "3171d685-4552-4eb9-adb5-fc44ca9cc777",
   "metadata": {},
   "outputs": [],
   "source": []
  },
  {
   "cell_type": "markdown",
   "id": "35dda155-7e8d-4ead-a6ba-48c4a3d3ec85",
   "metadata": {},
   "source": [
    "## Unit Testing"
   ]
  },
  {
   "cell_type": "code",
   "execution_count": 11,
   "id": "c7853af9-e654-4987-b540-d1e89df02aca",
   "metadata": {
    "tags": []
   },
   "outputs": [],
   "source": [
    "import unittest\n",
    "import sys\n",
    "\n",
    "from apache_beam.testing.test_pipeline import TestPipeline\n",
    "from apache_beam.testing.util import BeamAssertException\n",
    "from apache_beam.testing.util import assert_that, equal_to"
   ]
  },
  {
   "cell_type": "code",
   "execution_count": 25,
   "id": "2a71c6f4-8d81-4c99-9617-b68afc2473a1",
   "metadata": {
    "tags": []
   },
   "outputs": [],
   "source": [
    "def run_test(out = sys.stdout, verbosity = 2):\n",
    "    loader = unittest.TestLoader()\n",
    "    suite = loader.loadTestsFromModule(sys.modules[__name__])\n",
    "    unittest.TextTestRunner(out, verbosity = verbosity).run(suite)"
   ]
  },
  {
   "cell_type": "markdown",
   "id": "62b5f32a-0587-43b3-9b7f-9c4ae0cb4af3",
   "metadata": {},
   "source": [
    "### Testing Class"
   ]
  },
  {
   "cell_type": "code",
   "execution_count": 24,
   "id": "81a8d396-d822-4f35-a699-e80f6f7ac12a",
   "metadata": {
    "tags": []
   },
   "outputs": [],
   "source": [
    "class SumAndPivotFnTest(unittest.TestCase):\n",
    "    \n",
    "    def test_check_pivot_and_sum(self):\n",
    "        \"\"\"\n",
    "        Check if rows are corectly aggregated when there are more rows than expected\n",
    "        \"\"\"\n",
    "\n",
    "        with TestPipeline() as p:\n",
    "\n",
    "            expected_values = [\n",
    "                {'C1': 70, 'C2': 27, 'C3': 105},\n",
    "                {'C1': 22, 'C2': 24, 'C4': 95},\n",
    "                {'C1': 21, 'C2': 6, 'C3': 98},\n",
    "                {'C1': 112, 'C2': 127, 'C4': 115}]\n",
    "\n",
    "            # pipeline previous steps \n",
    "            inputs = (p\n",
    "                | 'ReadFromJSON' >> beam.Create(sample_data.get(\"sample\"))\n",
    "                | 'AssignSchema' >> beam.Map(lambda x: TestDataSchema(**x)) \n",
    "                | 'TimestampedValues' >> beam.Map(lambda x: beam.window.TimestampedValue(x, x.timestamp))\n",
    "                | 'GroupBy' >> beam.GroupBy(\"element_id\", \"timestamp\")\n",
    "            )\n",
    "\n",
    "            # tested class\n",
    "            output = inputs | beam.CombineValues(SumAndPivotFn()) | beam.Map(lambda x: x[1])\n",
    "            assert_that(output, equal_to(expected_values))"
   ]
  },
  {
   "cell_type": "code",
   "execution_count": 26,
   "id": "6b380fe7-f367-4724-9887-e87452b2dbb7",
   "metadata": {
    "tags": []
   },
   "outputs": [
    {
     "name": "stdout",
     "output_type": "stream",
     "text": [
      "test_check_pivot_and_sum (__main__.SumAndPivotFnTest)\n",
      "Check if rows are corectly aggregated when there are more rows than expected ... ok\n",
      "\n",
      "----------------------------------------------------------------------\n",
      "Ran 1 test in 1.109s\n",
      "\n",
      "OK\n"
     ]
    }
   ],
   "source": [
    "run_test()"
   ]
  },
  {
   "cell_type": "code",
   "execution_count": null,
   "id": "6bca066c-f5ef-477d-89ac-608f2df0b34c",
   "metadata": {},
   "outputs": [],
   "source": []
  },
  {
   "cell_type": "markdown",
   "id": "2180b40f-25c6-4352-bac7-0ba9c48bf43d",
   "metadata": {},
   "source": [
    "## Snippet with window definition for streaming processing in VoLTE (do not run)\n",
    "Related to Jira task: https://jira.telekom.de/browse/PICDAA-946"
   ]
  },
  {
   "cell_type": "code",
   "execution_count": null,
   "id": "8aa82062-4eea-4603-b3a8-b6aa5930a1ba",
   "metadata": {},
   "outputs": [],
   "source": [
    "with beam.Pipeline(options=options) as p:\n",
    "    data = (p\n",
    "     | 'ReadFromPubSub' >> ...\n",
    "     | 'AssignSchema' >> ...\n",
    "     | 'AddEarlierSteps' >> ... # fix and normalize column names,\n",
    "     | 'OptionallyRecalculate5MinutesSlots' >> ... # optionally recalculate timestamps into 5 minutes slots\n",
    "         ...\n",
    "     # and here IMORTANT steps for proper window settings:\n",
    "     | 'TimestampedValues' >> beam.Map(lambda x: beam.window.TimestampedValue(x, x.timestamp)) # overwrite DTS!\n",
    "     | 'Fixed5MinutesWindows' >> beam.WindowInto(beam.window.FixedWindows(5*60),\n",
    "             trigger=AfterWatermark(late=AfterCount(1)), # recalculate each time data arrives after watermark\n",
    "             allowed_lateness=600, # wait 10 minutes for late data (needs tuning/validation)\n",
    "             accumulation_mode=AccumulationMode.DISCARDING # only last window pane (latest recalculation per trigger)\n",
    "             # accumulation_mode=AccumulationMode.ACCUMULATING # test on real data which will be better (it is related with aggregation in later steps)\n",
    "            )\n",
    "\n",
    "     # Then aggregation and pivot\n",
    "     | 'GroupBy' >> beam.GroupBy(\"element_id\", \"timestamp\")   # window will be alse added to group by by beam\n",
    "     | 'SumAndPivotFn' >> beam.CombineValues(SumAndPivotFn())\n",
    "     | 'FormatOutputsAfterCombine' >> beam.ParDo(FormatOutputsAfterCombine())\n",
    "\n",
    "     # Other stuff: sink into BQ managed tables, save late data into GCS bucket, etc.\n",
    "         ...\n",
    ")"
   ]
  }
 ],
 "metadata": {
  "environment": {
   "kernel": "apache-beam-2.56.0",
   "name": ".m118",
   "type": "gcloud",
   "uri": "us-docker.pkg.dev/deeplearning-platform-release/gcr.io/:m118"
  },
  "kernelspec": {
   "display_name": "Apache Beam 2.56.0",
   "language": "python",
   "name": "apache-beam-2.56.0"
  },
  "language_info": {
   "codemirror_mode": {
    "name": "ipython",
    "version": 3
   },
   "file_extension": ".py",
   "mimetype": "text/x-python",
   "name": "python",
   "nbconvert_exporter": "python",
   "pygments_lexer": "ipython3",
   "version": "3.10.14"
  }
 },
 "nbformat": 4,
 "nbformat_minor": 5
}
